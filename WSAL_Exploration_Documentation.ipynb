{
 "cells": [
  {
   "cell_type": "markdown",
   "id": "23d70026",
   "metadata": {},
   "source": [
    "# Week-Supervised Anomaly Localization (WSAL) Method\n",
    "\n",
    "## Eksplorasi Documentation"
   ]
  },
  {
   "cell_type": "code",
   "execution_count": null,
   "id": "1179e3fe",
   "metadata": {},
   "outputs": [],
   "source": [
    "import os                                     #Module untuk manajemen file\n",
    "import sys                                    #Module untuk mengakses program dan menjalankan file kode python di lingkungan direktori atau sistem itu sendiri\n",
    "from multiprocessing import Pool              #Kelas modul yang dapat menangani sejumlah besar proses, sehingga dapat membuat jalannya multiple jobs per-process\n",
    "from multiprocessing import current_process   #Kelas modul yang mampu membantu menginfokan process object yang terdapat pada proses saat ini\n",
    "from multiprocessing import freeze_support    #Kelas modul yang mampu menghentikan (freeze) ketika suatu program menggunakan multiprocessing"
   ]
  },
  {
   "cell_type": "code",
   "execution_count": null,
   "id": "4918488d",
   "metadata": {},
   "outputs": [],
   "source": [
    "#Proses instalasi openCV\n",
    "#1.  Run anaconda prompt as Adminitrator\n",
    "#2.  conda install -n base nb_conda_kernels\n",
    "#3.  conda create —n namaEnv python=3.5\n",
    "#4.  conda activate namaEnv\n",
    "#5.  pip install --user ipykernel\n",
    "#6.  python -m ipykernel install --user --name=namaEnv\n",
    "#      Code untuk lihat list kernel : jupyter kernelspec list\n",
    "#      Code untuk menghapus kernel : jupyter kernelspec uninstall namaEnv\n",
    "#7.  conda config --add channels conda-forge\n",
    "#8.  conda config --add channels willyd\n",
    "#9.  pip install numpy==1.16.4 -i https://pypi.tuna.tsinghua.edu.cn/simple/\n",
    "#10. conda install --yes cmake ninja scipy protobuf==3.1.0 six scikit-image pyyaml pydotplus graphviz\n",
    "#11. conda install anaconda-client\n",
    "#12. conda install --channel https://conda.anaconda.org/menpo opencv3\n",
    "\n",
    "import numpy as np                            #Module yang digunakan untuk komputasi ilmiah dan pekerjaan yang melibatkan data array\n",
    "import cv2                                    #Module untuk memanfaatkan open source computer vision atau yang dikenal dengan openCV"
   ]
  },
  {
   "cell_type": "markdown",
   "id": "c2f298e3",
   "metadata": {},
   "source": [
    "### Langkah 1 - Menyiapkan data dengan download dari kaggle dan langsung memasukkannya ke directory"
   ]
  },
  {
   "cell_type": "code",
   "execution_count": null,
   "id": "fa65542b",
   "metadata": {},
   "outputs": [],
   "source": [
    "#install opendatasets library yang digunakan untuk mengunduh open dataset dari platform seperti kaggle\n",
    "!pip install opendatasets"
   ]
  },
  {
   "cell_type": "code",
   "execution_count": null,
   "id": "c49141a7",
   "metadata": {
    "scrolled": false
   },
   "outputs": [],
   "source": [
    "#Proses mengunduh dataset dari kaggle terkait dengan sample UCF Crime\n",
    "import opendatasets as od\n",
    "od.download(\"https://www.kaggle.com/datasets/mission-ai/crimeucfdataset\")"
   ]
  },
  {
   "cell_type": "markdown",
   "id": "ecb2a3a7",
   "metadata": {},
   "source": [
    "### Langkah 2 - Mempersipkan CUDA Toolkit "
   ]
  },
  {
   "cell_type": "code",
   "execution_count": null,
   "id": "be265416",
   "metadata": {},
   "outputs": [],
   "source": [
    "#Langkah-langkahnya adalah:\n",
    "\n",
    "#1.  Mengecek NVIDIA Graphic Card = Start Button -> Device Manager -> Display Adaptors\n",
    "#2.  Mengecek informasi terkait dengan CUDA Driver = Right Click on Desktop -> NVIDIA Control Panel -> Help Tab -> System Information -> Components Section -> Check CUDA Driver in NVCUDA.DLL\n",
    "#    Acuan = https://miro.medium.com/max/700/1*pyZAEgX30F09Fgt9jksB-Q.png\n",
    "#3.  Install Visual Studio sesuai dengan CUDA compatibility\n",
    "#4.  Sesuaikan python version dengan CUDA compatibility (install python 3.5)\n",
    "#5.  Mengunduh CUDA Toolkit sesuai dengan series CUDA Driver = https://developer.nvidia.com/cuda-toolkit-archive (CUDA 8.0 compatible with Compute 2.1)\n",
    "#6.  Unduh file .exe(local) dan lakukan instalasi dari file yang telah diperoleh\n",
    "#7.  Proses install NVIDIA CUDA Deep Neural Network library (cuDNN) yang mana merupakan GPU-accelerated library dari primitives untuk deep neural networks = https://developer.nvidia.com/rdp/cudnn-archive\n",
    "#8.  Lakukan ekstrak file yang didownload dan buka folder tersebut. Copy 3 folder dan text file yang selanjutnya menuju ke lokasi file NVIDIA GPU Computing Toolkit (biasanya C:\\Program Files\\NVIDIA GPU Computing Toolkit)\n",
    "#9.  Paste di lokasi folder tersebut, contoh C:\\Program Files\\NVIDIA GPU Computing Toolkit\\CUDA\\v8.0\n",
    "#10. Tambahkan path pada environmental variables, pada System Variables -> Path:\n",
    "#    a. C:\\Program Files\\NVIDIA GPU Computing Toolkit\\CUDA\\v8.0\\bin\n",
    "#    b. C:\\Program Files\\NVIDIA GPU Computing Toolkit\\CUDA\\v8.0\\libnvvp\n",
    "#    c. C:\\Program Files\\NVIDIA GPU Computing Toolkit\\CUDA\\v8.0\\extras\\CUPTI\\libx64\n",
    "#11. Install tensorflow dan tensorflow-gpu yang compatible\n",
    "#    a. conda install tensorflow==1.4.0\n",
    "#    b. pip install tensorflow-gpu==1.4.0\n",
    "#12. Jalankan Spyder dalam virtual environment yang telah dibuat\n",
    "#    sypder\n",
    "#13. Memverifikasi apakah CUDA Toolkit terpasang dengan benar, maka ketikkan berikut di Spyder\n",
    "#    from tensorflow.python.client import device_lib\n",
    "#    print(device_lib.list_local_devices())"
   ]
  },
  {
   "cell_type": "markdown",
   "id": "3e7040cf",
   "metadata": {},
   "source": [
    "### Langkah 3 - Proses Instalasi Caffe dan CaffeNet untuk memanfaatkan kerangkan kerja deep learning yang dibuat dengan mempertimbangkan ekspresi, kecepatan dan modularitas "
   ]
  },
  {
   "cell_type": "code",
   "execution_count": null,
   "id": "fd509ba8",
   "metadata": {},
   "outputs": [],
   "source": [
    "! nvcc --version"
   ]
  },
  {
   "cell_type": "code",
   "execution_count": null,
   "id": "cdc6ad9e",
   "metadata": {},
   "outputs": [],
   "source": [
    "%cd C:\\Program Files\\NVIDIA Corporation\\NVSMI\n",
    "! nvidia-smi"
   ]
  },
  {
   "cell_type": "code",
   "execution_count": null,
   "id": "d4dbe8b6",
   "metadata": {
    "scrolled": true
   },
   "outputs": [],
   "source": [
    "# conda install -c conda-forge ninja\n",
    "# conda install -c anaconda git\n",
    "# conda install -c anaconda vs2015_runtime\n",
    "\n",
    "! cmake --version\n",
    "! ninja --version\n",
    "! git --version\n",
    "\n",
    "from tensorflow.python.platform import build_info as tf_build_info\n",
    "print(\"CUDA Version = \", tf_build_info.cuda_version_number)\n",
    "print(\"CUDNN Version = \", tf_build_info.cudnn_version_number)"
   ]
  },
  {
   "cell_type": "code",
   "execution_count": null,
   "id": "88000c55",
   "metadata": {},
   "outputs": [],
   "source": [
    "#Dijalankan cukup sekali saja, karena prosedur ini akan membuat clone dari dokumen pada github ke local drive\n",
    "%cd C:\\Users\\WSITERA\\Documents\\Disertasi_RIK\n",
    "! git clone \"https://github.com/BVLC/caffe.git\"\n",
    "%cd C:\\Users\\WSITERA\\Documents\\Disertasi_RIK\\caffe\n",
    "! git checkout windows"
   ]
  },
  {
   "cell_type": "code",
   "execution_count": null,
   "id": "40211151",
   "metadata": {},
   "outputs": [],
   "source": [
    "#Dijalankan cukup sekali saja, karena prosedur ini akan membuat clone dari dokumen pada github ke local drive\n",
    "%cd C:\\Users\\WSITERA\\Documents\\Disertasi_RIK\n",
    "! git clone --recursive \"https://github.com/yjxiong/caffe.git\" caffe_yjxiong\n",
    "%cd C:\\Users\\WSITERA\\Documents\\Disertasi_RIK\\caffe_yjxiong\n",
    "    \n",
    "#Jalankan di Anaconda Prompt\n",
    "#1. mkdir build\n",
    "#2. Copy build_win.cmd yang ada pada folder scripts dan paste pada caffe_yjxiong\\scripts\n",
    "#3. Copy folder CMake dari caffe ke caffe_yjxiong\n",
    "#4. Copy CMakeList.txt, folder CMake dari folder caffe ke caffe_yjxiong\n",
    "#5. Copy ConfigGen.cmake, folder CMake dari kepemilikan caffe_yjxiong\n",
    "#5. Edit file build_win.cmd:\n",
    "#   - Ubah set WITH_NINJA=1 menjadi set WITH_NINJA=0\n",
    "#6. Install pthread.h di windows:\n",
    "#   - git clone --recursive https://github.com/microsoft/vcpkg.git\n",
    "#   - cd vcpkg\n",
    "#   - bootstrap-vcpkg.bat\n",
    "#   - vcpkg.exe install pthread\n",
    "#   - vcpkg integrate install\n",
    "#6. cd C:\\Users\\WSITERA\\Documents\\Disertasi_RIK\\caffe_yjxiong\n",
    "#7. script\\build_win.cmd\n",
    "#   - Catatan : Jangan lupa hapus dahulu file build\\CMakeCache.txt sebelum jalankan script build_win"
   ]
  },
  {
   "cell_type": "code",
   "execution_count": null,
   "id": "ebe79659",
   "metadata": {},
   "outputs": [],
   "source": [
    "#Membangun dependencies secara mandiri dengan caffe-builder\n",
    "%cd C:\\Users\\WSITERA\\Documents\\Disertasi_RIK\n",
    "! git clone \"https://github.com/willyd/caffe-builder.git\" caffe-builder\n",
    "%cd C:\\Users\\WSITERA\\Documents\\Disertasi_RIK\\caffe-builder\n",
    "! build_v140_x64.cmd\n",
    "\n",
    "%cd C:\\Users\\WSITERA\\Documents\\Disertasi_RIK\n",
    "! mkdir build\n",
    "%cd C:\\Users\\WSITERA\\Documents\\Disertasi_RIK\\build\n",
    "! cmake -G \"Visual Studio 14 2015\" -C \"C:\\Users\\WSITERA\\Documents\\Disertasi_RIK\\caffe-builder\\build_v140_x64\\libraries\\caffe-builder-config.cmake\""
   ]
  },
  {
   "cell_type": "code",
   "execution_count": null,
   "id": "27cfc996",
   "metadata": {},
   "outputs": [],
   "source": [
    "#Jalankan di Anaconda Prompt\n",
    "#1. Edit Makefile.config dengan menghapus -gencode arch=compute_20,code=sm_20 dan -gencode arch=compute_20,code=sm_21 \n",
    "#     Referensi -> https://stackoverflow.com/questions/48383846/nvcc-fatal-unsupported-gpu-architecture-compute-20-while-cuda-9-1caffeopen\n",
    "#2. Edit C:\\Users\\WSITERA\\Documents\\Disertasi_RIK\\caffe\\cmake\\Cuda.cmake dengan menghapus 20 21(20) from the list of GPU architectures\n",
    "#     Referensi -> https://github.com/kaldi-asr/kaldi/issues/1918\n",
    "#3. Hapus C:\\Users\\WSITERA\\Documents\\Disertasi_RIK\\caffe\\build\\CMakeCache.txt\n",
    "#3. cd C:\\Users\\WSITERA\\Documents\\Disertasi_RIK\\caffe\n",
    "#4. scripts\\build_win.cmd\n",
    "#5. copy folder C:\\Projects\\caffe\\python\\caffe ke C:\\Users\\WSITERA\\anaconda3\\envs\\disertasi_rik\\Lib\\site-packages"
   ]
  },
  {
   "cell_type": "code",
   "execution_count": null,
   "id": "1adc6629",
   "metadata": {},
   "outputs": [],
   "source": [
    "#Dijalankan cukup sekali saja, karena prosedur ini akan membuat clone dari dokumen pada github ke local drive\n",
    "%cd C:\\Users\\WSITERA\\Documents\\Disertasi_RIK\n",
    "! git clone --recursive \"https://github.com/jx-zhong-for-academic-purpose/GCN-Anomaly-Detection.git\"\n",
    "%cd C:\\Users\\WSITERA\\Documents\\Disertasi_RIK\\GCN-Anomaly-Detection\n",
    "\n",
    "#1. Copy folder C:\\Users\\WSITERA\\Documents\\Disertasi_RIK\\GCN-Anomaly-Detection\\feature_extraction\\extract_tsn\\pyActionRecog ke C:\\Users\\WSITERA\\anaconda3\\envs\\disertasi_rik\\Lib\\site-packages\n",
    "#2. Lakukan perubahan pada file __init__.py\n",
    "#   - from .benchmark_db import *\n",
    "#   - from .MatInfo import *\n",
    "#3. Lakukan perubahan pada file benchmark_db.py\n",
    "#   - from .anet_db import ANetDB\n",
    "#   - semua perintah print disesuaikan dengan print()\n",
    "#4. Lakukan perubahan pada file anet_db.py\n",
    "#   - from .utils import *\n",
    "#5. Lakukan perubahan pada file MatInfo.py\n",
    "#   - semua perintah print disesuaikan dengan print()\n",
    "#6. Lakukan perubahan pada file action_caffe.py\n",
    "#   - from .utils.io import flow_stack_oversample, fast_list2arr"
   ]
  },
  {
   "cell_type": "code",
   "execution_count": null,
   "id": "c9ece29e",
   "metadata": {
    "scrolled": true
   },
   "outputs": [],
   "source": [
    "import caffe                                          #Module untuk memanfaatkan kerangka kerja deep learning yang dibuat dengan mempertimbangkan expression, speed, dan modularity\n",
    "from pyActionRecog.action_caffe import CaffeNet       #Module untuk memanfaatkan arsitektur deep learning yang merupakan varian dari AlexNet dengan basis convolutional neural network untuk proses classification"
   ]
  },
  {
   "cell_type": "markdown",
   "id": "dd23939c",
   "metadata": {},
   "source": [
    "### Langkah 4. Proses instalasi dense_flow untuk mengekstrak optical_flow dari video "
   ]
  },
  {
   "cell_type": "code",
   "execution_count": null,
   "id": "40d7db7c",
   "metadata": {},
   "outputs": [],
   "source": [
    "#conda install -c conda-forge libzip\n",
    "\n",
    "%cd C:\\Users\\WSITERA\\Documents\\Disertasi_RIK\n",
    "! git clone --recursive \"https://github.com/yjxiong/dense_flow.git\"\n",
    "%cd dense_flow\n",
    "! mkdir build\n",
    "%cd build"
   ]
  },
  {
   "cell_type": "code",
   "execution_count": null,
   "id": "6b675c94",
   "metadata": {},
   "outputs": [],
   "source": [
    "#Dijalankan melalui anaconda prompt:\n",
    "#1. Install opencv-4.1.2-vc14_vc15.exe\n",
    "#   - Lanjut tambahkan set(OpenCV_DIR \"C:/OpenCV/build/x64/vc14/lib\") pada C:\\Users\\WSITERA\\Documents\\Disertasi_RIK\\dense_flow\\CMakeLists.txt\n",
    "#2. Extract dan Configure boost_1_61_0\n",
    "#   - Extract file boost_1_61_0 dari folder C:\\Users\\WSITERA\\Documents\\Disertasi_RIK\\build\\download (hasil build dependensi caffe)\n",
    "#   - Dalam folder hasil ekstrak eksekusi file bootstrap.bat\n",
    "#   - Selanjutnya eksekusi lagi file b2.exe\n",
    "#3. cd C:\\Users\\WSITERA\\Documents\\Disertasi_RIK\\dense_flow\\build\n",
    "#4. cmake -G \"Visual Studio 14 2015\" -DCMAKE_INSTALL_PREFIX=$HOME/app -DUSE_HDF5=no -DUSE_NVFLOW=no -DBOOST_ROOT=\"C:\\Users\\WSITERA\\Documents\\Disertasi_RIK\\build\\download\\boost_1_61_0\" -DBOOST_LIBRARYDIR=\"C:\\Users\\WSITERA\\Documents\\Disertasi_RIK\\build\\download\\boost_1_61_0\" -DBoost_USE_STATIC_LIBS=ON ..\n",
    "#   - Catatan : Jika akan dilakukan instalasi ulang, maka hapus dahulu file CMakeCache di C:\\Users\\WSITERA\\Documents\\Disertasi_RIK\\dense_flow\\build\n",
    "#\n",
    "#\n",
    "# COBA LAKUKAN TEST UNTUK EXTRACT SUATU DATA VIDEO\n",
    "# ./extract_gpu -f=test.avi -x=tmp/flow_x -y=tmp/flow_y -i=tmp/image -b=20 -t=1 -d=0 -s=1 -o=dir\n",
    "# Catatan:\n",
    "#   - test.avi: input video\n",
    "#   - tmp: folder containing RGB images and optical flow images\n",
    "#   - dir: output generated images to folder. if set to zip, will write images to zip files instead."
   ]
  },
  {
   "cell_type": "markdown",
   "id": "477dc68e",
   "metadata": {},
   "source": [
    "###  Langkah X. Proses ekstraksi fitur pada doman spasial (RGB) dengan memanfaatkan algoritme Temporal-Segment-Networks (TSN)"
   ]
  },
  {
   "cell_type": "code",
   "execution_count": null,
   "id": "6eb60646",
   "metadata": {},
   "outputs": [],
   "source": [
    "#Proses Inisialisasi dari Beberapa Variabel\n",
    "\n",
    "gpu_list = [0, 1, 2, 3]\n",
    "worker_cnt = 56\n",
    "\n",
    "score_name = \"fc-action-ucf_crimes\"\n",
    "flow_x_prefix = \"flow_x_\"\n",
    "flow_y_prefix = \"flow_y_\"\n",
    "rgb_prefix = \"img_\"\n",
    "modality = \"rgb\"\n",
    "\n",
    "#Lokasi tempat menyimpan video\n",
    "video_folder = \"C:/Users/WSITERA/Documents/Disertasi_RIK/assets_exploration/crime_ucf_dataset/\"\n",
    "#Lokasi tempat menyimpan pre-train model structure/description\n",
    "deploy_file = \"C:/Users/WSITERA/Documents/Disertasi_RIK/assets_exploration/deploy_ucf_crimes/bn_inception_rgb_deploy.prototxt\"\n",
    "#Lokasi tempat menyimpan output dari feature extraction\n",
    "output_folder = \"C:/Users/WSITERA/Documents/Disertasi_RIK/assets_exploration/output_rgb_features\"\n",
    "#Lokasi tempat menyimpan pre-train model/weight untuk feature extraction\n",
    "caffemodel = \"C:/Users/WSITERA/Documents/Disertasi_RIK/assets_exploration/models/rgb_iter_1000.caffemodel\"\n",
    "\n",
    "caffe_path = \"caffe\"\n",
    "sys.path.append(os.path.join(caffe_path, \"python\"))\n",
    "step = 5\n",
    "dense_sample = True"
   ]
  },
  {
   "cell_type": "code",
   "execution_count": null,
   "id": "1b1a084e",
   "metadata": {},
   "outputs": [],
   "source": [
    "#Pendefinisian sebuah fungsi untuk mengetest pemrosesan pararel\n",
    "def pararel_test(x):\n",
    "    current = current_process()\n",
    "    print('running:',current,' --> ',current._identity[0])\n",
    "    return x * x\n",
    "\n",
    "#Pendefinisian sebuah fungsi untuk membentuk model CaffeNet pada setiap proses feature extraction oleh thread worker\n",
    "def build_net():\n",
    "    global net\n",
    "    gpu_id = gpu_list[current_process()._identity[0] % len(gpu_list)]        #current_process()._identity[0] untuk memberikan informasi thread worker mana yang sedang menjalankan task\n",
    "    net = CaffeNet(deploy_file, caffemodel, gpu_id)                          #caffe model description file (.prototxt), caffe model parameter file (.caffemodel), device_id yang didefinisikan oleh gpu_id\n",
    "    \n",
    "#Pendefinisian sebuah fungsi untuk memproses data video menjadi ........\n",
    "def eval_video(video_frame_path):\n",
    "    global net\n",
    "    vid = os.path.basename(video_frame_path)                                 #Untuk memperoleh basename (nama folder/file yang terletak di ujung paling kanan) dari path yang spesifik\n",
    "    print(\"video {} doing\".format(vid))\n",
    "    all_files = os.listdir(video_frame_path)                                 #Untuk memperoleh daftar nama dari semua file yang berada pada path spesifik\n",
    "    frame_cnt = len(all_files)\n",
    "    print(frame_cnt)"
   ]
  },
  {
   "cell_type": "code",
   "execution_count": null,
   "id": "cc748c53",
   "metadata": {
    "scrolled": true
   },
   "outputs": [],
   "source": [
    "if __name__ == '__main__':\n",
    "    freeze_support()\n",
    "    \n",
    "    #Proses membuat folder untuk menyimpan hasil output dari Feature Extraction dengan fokus dimensi spasial (RGB) dengan 1000 iterasi\n",
    "    #os.mkdir(os.path.join(output_folder, os.path.basename(caffemodel).replace(\".caffemodel\",\"\")))\n",
    "    \n",
    "    #Contoh mengambil data video Burglary dari UCF-Crime\n",
    "    video_path_list = []\n",
    "    video_name_list = os.listdir(video_folder+\"Anomaly-Videos-Part-2/Burglary_Sample/\")\n",
    "    for it in video_name_list:\n",
    "        video_path_list.append(os.path.join(video_folder+\"Anomaly-Videos-Part-2/Burglary_Sample/\", it))\n",
    "    \n",
    "    #Untuk memanfaatkan proses yang nyaman dalam memparalelkan eksekusi fungsi di beberapa nilai input,\n",
    "    #dengan pendefinisian processes yang memberikan jumlah pekerja(thread worker) yang akan berproses,\n",
    "    #serta pendefinisian initializer untuk memerintahkan setiap pekerja menjalankan fungsi yang diberikan pada awal proses.\n",
    "    pool = Pool(processes=worker_cnt, initializer=build_net)\n",
    "    \n",
    "    #Menjalankan proses secara pararel dengan memanfaatkan pool multiprocessing yang mana setiap prosesnya \n",
    "    #memanggil fungsi eval_video dengan nilai input pada setiap pemanggilannya adalah suatu data path (tunggal)\n",
    "    #dari video_path_list\n",
    "    pool.map(eval_video, video_path_list)"
   ]
  },
  {
   "cell_type": "markdown",
   "id": "c0a681fe",
   "metadata": {},
   "source": [
    "### Langkah X. Penerapan dari temporal-segment-networks sebagai Action Feature Extractor"
   ]
  },
  {
   "cell_type": "code",
   "execution_count": null,
   "id": "9bbf7f70",
   "metadata": {},
   "outputs": [],
   "source": [
    "#Dijalankan cukup sekali saja, karena prosedur ini akan membuat clone dari dokumen pada github ke local drive\n",
    "%cd C:\\Users\\WSITERA\\Documents\\Disertasi_RIK\n",
    "! git clone --recursive \"https://github.com/yjxiong/temporal-segment-networks.git\"\n",
    "%cd C:\\Users\\WSITERA\\Documents\\Disertasi_RIK\\temporal-segment-networks\n",
    "! git status"
   ]
  }
 ],
 "metadata": {
  "kernelspec": {
   "display_name": "disertasi_rik",
   "language": "python",
   "name": "disertasi_rik"
  },
  "language_info": {
   "codemirror_mode": {
    "name": "ipython",
    "version": 3
   },
   "file_extension": ".py",
   "mimetype": "text/x-python",
   "name": "python",
   "nbconvert_exporter": "python",
   "pygments_lexer": "ipython3",
   "version": "3.5.6"
  }
 },
 "nbformat": 4,
 "nbformat_minor": 5
}
